{
 "cells": [
  {
   "cell_type": "code",
   "execution_count": 87,
   "metadata": {},
   "outputs": [],
   "source": [
    "import jsonlines\n",
    "import datetime\n",
    "import json\n",
    "import requests\n",
    "import numpy as np\n",
    "import os\n",
    "import pandas as pd\n",
    "from requests_oauthlib import OAuth1"
   ]
  },
  {
   "cell_type": "code",
   "execution_count": 91,
   "metadata": {},
   "outputs": [],
   "source": [
    "api_creds = {\n",
    "    'consumer_key':'',\n",
    "    'consumer_secret':'',\n",
    "    'access_token':'',\n",
    "    'access_token_secret':''\n",
    "}\n",
    "\n",
    "auth = OAuth1(api_creds['consumer_key'], api_creds['consumer_secret'],\n",
    "                     api_creds['access_token'],api_creds['access_token_secret'])"
   ]
  },
  {
   "cell_type": "code",
   "execution_count": 92,
   "metadata": {},
   "outputs": [],
   "source": [
    "def getUserTweets(screen_name,authorization,fetchAttempts):\n",
    "    \n",
    "    api_url='https://api.twitter.com/1.1/statuses/user_timeline.json?screen_name={}&count=200&trim_user=true&tweet_mode=extended'\n",
    "    api_url=api_url.format(screen_name)\n",
    "    tweets = []\n",
    "    for i in range(fetchAttempts):\n",
    "        tweets = tweets + requests.get(api_url,auth=authorization).json()\n",
    "    return tweets\n",
    "\n",
    "def saveJsonline(tweetList,filename):\n",
    "    with open(filename,'w',encoding=\"utf-8\") as file:\n",
    "        book = jsonlines.Writer(file)\n",
    "        book.write_all(tweetList)\n",
    "        book.close"
   ]
  },
  {
   "cell_type": "code",
   "execution_count": 93,
   "metadata": {},
   "outputs": [
    {
     "name": "stdout",
     "output_type": "stream",
     "text": [
      "600\n"
     ]
    }
   ],
   "source": [
    "tweets = getUserTweets('',auth,3)\n",
    "print(len(tweets))\n",
    "saveJsonline(tweets,'tweets.jsonl')"
   ]
  },
  {
   "cell_type": "code",
   "execution_count": 94,
   "metadata": {},
   "outputs": [],
   "source": [
    "def tweetInfo(tweet):\n",
    "    cleanTweet = []\n",
    "    for col in ['created_at','full_text', 'favorite_count','retweet_count']:\n",
    "        cleanTweet.append(tweet[col])\n",
    "    \n",
    "    cleanTweet[0] = datetime.datetime.strptime(cleanTweet[0][:-10]+cleanTweet[0][-4:],\"%a %b %d %H:%M:%S %Y\")\n",
    "    count=0\n",
    "    if 'extended_entities' in tweet.keys():\n",
    "        if 'media' in tweet['extended_entities'].keys():\n",
    "            for m in tweet['extended_entities']['media']:\n",
    "                if m['type'] == 'photo':\n",
    "                    count = count + 1\n",
    "    \n",
    "    if(count == 0):\n",
    "        cleanTweet.append(None)\n",
    "    else:\n",
    "        cleanTweet.append(count)\n",
    "    \n",
    "    return cleanTweet"
   ]
  },
  {
   "cell_type": "code",
   "execution_count": 97,
   "metadata": {},
   "outputs": [],
   "source": [
    "def TweetsTable(tweets):\n",
    "    table = [tweetInfo(t) for t in tweets]  \n",
    "    df = pd.DataFrame(table,columns=['Timestamp','Tweets','Likes','Retweets','Image Count'])\n",
    "    pd.options.display.max_rows\n",
    "    pd.set_option('display.max_colwidth', -1)\n",
    "    return df\n",
    "\n",
    "#display(TweetsTable(tweets))"
   ]
  }
 ],
 "metadata": {
  "kernelspec": {
   "display_name": "Python 3",
   "language": "python",
   "name": "python3"
  },
  "language_info": {
   "codemirror_mode": {
    "name": "ipython",
    "version": 3
   },
   "file_extension": ".py",
   "mimetype": "text/x-python",
   "name": "python",
   "nbconvert_exporter": "python",
   "pygments_lexer": "ipython3",
   "version": "3.6.8"
  }
 },
 "nbformat": 4,
 "nbformat_minor": 2
}
